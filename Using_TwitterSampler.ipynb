{
 "cells": [
  {
   "cell_type": "markdown",
   "id": "8eb88a3d",
   "metadata": {},
   "source": [
    "### Run functions of TwitterSampler"
   ]
  },
  {
   "cell_type": "code",
   "execution_count": 1,
   "id": "24d8f352",
   "metadata": {},
   "outputs": [],
   "source": [
    "%load_ext autoreload\n",
    "%autoreload 2"
   ]
  },
  {
   "cell_type": "code",
   "execution_count": 2,
   "id": "beb57f16",
   "metadata": {},
   "outputs": [],
   "source": [
    "import pandas as pd\n",
    "pd.set_option('display.max_colwidth', None)"
   ]
  },
  {
   "cell_type": "code",
   "execution_count": 3,
   "id": "1879c7a8",
   "metadata": {},
   "outputs": [],
   "source": [
    "# Import the TwitterSampler module\n",
    "from TwitterSampler import TwitterSampler"
   ]
  },
  {
   "cell_type": "code",
   "execution_count": 13,
   "id": "918d90c0",
   "metadata": {},
   "outputs": [
    {
     "name": "stdout",
     "output_type": "stream",
     "text": [
      ".twitter_config.json\r\n"
     ]
    }
   ],
   "source": [
    "# prerequisite : .twitter_config.json file present in same path\n",
    "! ls -a .twitter_config.json"
   ]
  },
  {
   "cell_type": "code",
   "execution_count": 14,
   "id": "7a9bdd02",
   "metadata": {},
   "outputs": [],
   "source": [
    "# Get a sampler object\n",
    "ts = TwitterSampler()"
   ]
  },
  {
   "cell_type": "markdown",
   "id": "d0a1965b",
   "metadata": {},
   "source": [
    "### Get recent tweets using query"
   ]
  },
  {
   "cell_type": "code",
   "execution_count": 5,
   "id": "a856774e",
   "metadata": {},
   "outputs": [
    {
     "data": {
      "text/html": [
       "<div>\n",
       "<style scoped>\n",
       "    .dataframe tbody tr th:only-of-type {\n",
       "        vertical-align: middle;\n",
       "    }\n",
       "\n",
       "    .dataframe tbody tr th {\n",
       "        vertical-align: top;\n",
       "    }\n",
       "\n",
       "    .dataframe thead th {\n",
       "        text-align: right;\n",
       "    }\n",
       "</style>\n",
       "<table border=\"1\" class=\"dataframe\">\n",
       "  <thead>\n",
       "    <tr style=\"text-align: right;\">\n",
       "      <th></th>\n",
       "      <th>id</th>\n",
       "      <th>created_at</th>\n",
       "      <th>raw_tweet_text</th>\n",
       "      <th>clean_tweet_text</th>\n",
       "      <th>lang</th>\n",
       "      <th>emoji_list</th>\n",
       "      <th>emoji_seq_nbr</th>\n",
       "    </tr>\n",
       "  </thead>\n",
       "  <tbody>\n",
       "    <tr>\n",
       "      <th>0</th>\n",
       "      <td>1548594182444699655</td>\n",
       "      <td>2022-07-17 09:03:19</td>\n",
       "      <td>@indicbulls @theicai Its not wasted, Its invested 😊</td>\n",
       "      <td>its not wasted, its invested 😊</td>\n",
       "      <td>en</td>\n",
       "      <td>[😊]</td>\n",
       "      <td>[11]</td>\n",
       "    </tr>\n",
       "    <tr>\n",
       "      <th>1</th>\n",
       "      <td>1548594150236454913</td>\n",
       "      <td>2022-07-17 09:03:11</td>\n",
       "      <td>@FiFinnymac Indeed!! Thanks Finny 😊</td>\n",
       "      <td>indeed!! thanks finny 😊</td>\n",
       "      <td>en</td>\n",
       "      <td>[😊]</td>\n",
       "      <td>[11]</td>\n",
       "    </tr>\n",
       "    <tr>\n",
       "      <th>2</th>\n",
       "      <td>1548594146289430528</td>\n",
       "      <td>2022-07-17 09:03:10</td>\n",
       "      <td>@ashwinisd86 Thank you so much ताई 😊</td>\n",
       "      <td>thank you so much ताई 😊</td>\n",
       "      <td>en</td>\n",
       "      <td>[😊]</td>\n",
       "      <td>[11]</td>\n",
       "    </tr>\n",
       "    <tr>\n",
       "      <th>3</th>\n",
       "      <td>1548594134213988352</td>\n",
       "      <td>2022-07-17 09:03:07</td>\n",
       "      <td>@ag_veintiuno Cool\\nSad about rd online 😔</td>\n",
       "      <td>cool sad about rd online 😔</td>\n",
       "      <td>en</td>\n",
       "      <td>[😔]</td>\n",
       "      <td>[47]</td>\n",
       "    </tr>\n",
       "    <tr>\n",
       "      <th>4</th>\n",
       "      <td>1548594131479543808</td>\n",
       "      <td>2022-07-17 09:03:07</td>\n",
       "      <td>@MauniPeter @hlabanematt @eNCA 😔yeah lawlessness has grappled our streets in a chokehold</td>\n",
       "      <td>😔yeah lawlessness has grappled our streets in a chokehold</td>\n",
       "      <td>en</td>\n",
       "      <td>[😔]</td>\n",
       "      <td>[47]</td>\n",
       "    </tr>\n",
       "    <tr>\n",
       "      <th>5</th>\n",
       "      <td>1548594131395821574</td>\n",
       "      <td>2022-07-17 09:03:07</td>\n",
       "      <td>@pogilangq if you can. then go.😊</td>\n",
       "      <td>if you can. then go.😊</td>\n",
       "      <td>en</td>\n",
       "      <td>[😊]</td>\n",
       "      <td>[11]</td>\n",
       "    </tr>\n",
       "    <tr>\n",
       "      <th>6</th>\n",
       "      <td>1548594130489675776</td>\n",
       "      <td>2022-07-17 09:03:06</td>\n",
       "      <td>@TroubleDads @Himself132 @ASGunn Undoubtedly my friend. 😊</td>\n",
       "      <td>undoubtedly my friend. 😊</td>\n",
       "      <td>en</td>\n",
       "      <td>[😊]</td>\n",
       "      <td>[11]</td>\n",
       "    </tr>\n",
       "    <tr>\n",
       "      <th>7</th>\n",
       "      <td>1548594126186479616</td>\n",
       "      <td>2022-07-17 09:03:05</td>\n",
       "      <td>@angel_claudiia Yes! At Lotte Avenue Kuningan 😊</td>\n",
       "      <td>yes! at lotte avenue kuningan 😊</td>\n",
       "      <td>en</td>\n",
       "      <td>[😊]</td>\n",
       "      <td>[11]</td>\n",
       "    </tr>\n",
       "    <tr>\n",
       "      <th>8</th>\n",
       "      <td>1548594125510934528</td>\n",
       "      <td>2022-07-17 09:03:05</td>\n",
       "      <td>@Chappers2013 @Lee46971236 @JulesB_07 @moggie611 @FABSITEUK @ShortArmOfLaw @ChrisLeeTM Good morning chapter safe duty 😊</td>\n",
       "      <td>good morning chapter safe duty 😊</td>\n",
       "      <td>en</td>\n",
       "      <td>[😊]</td>\n",
       "      <td>[11]</td>\n",
       "    </tr>\n",
       "    <tr>\n",
       "      <th>9</th>\n",
       "      <td>1548594108016406528</td>\n",
       "      <td>2022-07-17 09:03:01</td>\n",
       "      <td>@_sunshinelix__ @neverendinskz @ciniminiroll @xahujjah @problematicabby @binniebin_bin @seungminsjagiya @agisajindududu @dylanobrien @Jacksepticeye @LadyLehcar92 @BEMOGYV @FineIMadeSKZacc @Daracha108 @astaycafe @UGH_GiveItToMe @agippanginnie @ParkerPen15 @bluewinter0914 Aww I made it! I got work to do 😊</td>\n",
       "      <td>aww i made it! i got work to do 😊</td>\n",
       "      <td>en</td>\n",
       "      <td>[😊]</td>\n",
       "      <td>[11]</td>\n",
       "    </tr>\n",
       "    <tr>\n",
       "      <th>10</th>\n",
       "      <td>1548594102274768897</td>\n",
       "      <td>2022-07-17 09:03:00</td>\n",
       "      <td>dahlah makin ovt anjeerrrr😔 https://t.co/flgp4N2e5A</td>\n",
       "      <td>dahlah makin ovt anjeerrrr😔</td>\n",
       "      <td>en</td>\n",
       "      <td>[😔]</td>\n",
       "      <td>[47]</td>\n",
       "    </tr>\n",
       "  </tbody>\n",
       "</table>\n",
       "</div>"
      ],
      "text/plain": [
       "                     id           created_at  \\\n",
       "0   1548594182444699655  2022-07-17 09:03:19   \n",
       "1   1548594150236454913  2022-07-17 09:03:11   \n",
       "2   1548594146289430528  2022-07-17 09:03:10   \n",
       "3   1548594134213988352  2022-07-17 09:03:07   \n",
       "4   1548594131479543808  2022-07-17 09:03:07   \n",
       "5   1548594131395821574  2022-07-17 09:03:07   \n",
       "6   1548594130489675776  2022-07-17 09:03:06   \n",
       "7   1548594126186479616  2022-07-17 09:03:05   \n",
       "8   1548594125510934528  2022-07-17 09:03:05   \n",
       "9   1548594108016406528  2022-07-17 09:03:01   \n",
       "10  1548594102274768897  2022-07-17 09:03:00   \n",
       "\n",
       "                                                                                                                                                                                                                                                                                                      raw_tweet_text  \\\n",
       "0                                                                                                                                                                                                                                                                @indicbulls @theicai Its not wasted, Its invested 😊   \n",
       "1                                                                                                                                                                                                                                                                                @FiFinnymac Indeed!! Thanks Finny 😊   \n",
       "2                                                                                                                                                                                                                                                                               @ashwinisd86 Thank you so much ताई 😊   \n",
       "3                                                                                                                                                                                                                                                                          @ag_veintiuno Cool\\nSad about rd online 😔   \n",
       "4                                                                                                                                                                                                                           @MauniPeter @hlabanematt @eNCA 😔yeah lawlessness has grappled our streets in a chokehold   \n",
       "5                                                                                                                                                                                                                                                                                   @pogilangq if you can. then go.😊   \n",
       "6                                                                                                                                                                                                                                                          @TroubleDads @Himself132 @ASGunn Undoubtedly my friend. 😊   \n",
       "7                                                                                                                                                                                                                                                                    @angel_claudiia Yes! At Lotte Avenue Kuningan 😊   \n",
       "8                                                                                                                                                                                            @Chappers2013 @Lee46971236 @JulesB_07 @moggie611 @FABSITEUK @ShortArmOfLaw @ChrisLeeTM Good morning chapter safe duty 😊   \n",
       "9   @_sunshinelix__ @neverendinskz @ciniminiroll @xahujjah @problematicabby @binniebin_bin @seungminsjagiya @agisajindududu @dylanobrien @Jacksepticeye @LadyLehcar92 @BEMOGYV @FineIMadeSKZacc @Daracha108 @astaycafe @UGH_GiveItToMe @agippanginnie @ParkerPen15 @bluewinter0914 Aww I made it! I got work to do 😊   \n",
       "10                                                                                                                                                                                                                                                               dahlah makin ovt anjeerrrr😔 https://t.co/flgp4N2e5A   \n",
       "\n",
       "                                             clean_tweet_text lang emoji_list  \\\n",
       "0                              its not wasted, its invested 😊   en        [😊]   \n",
       "1                                     indeed!! thanks finny 😊   en        [😊]   \n",
       "2                                     thank you so much ताई 😊   en        [😊]   \n",
       "3                                  cool sad about rd online 😔   en        [😔]   \n",
       "4   😔yeah lawlessness has grappled our streets in a chokehold   en        [😔]   \n",
       "5                                       if you can. then go.😊   en        [😊]   \n",
       "6                                    undoubtedly my friend. 😊   en        [😊]   \n",
       "7                             yes! at lotte avenue kuningan 😊   en        [😊]   \n",
       "8                            good morning chapter safe duty 😊   en        [😊]   \n",
       "9                           aww i made it! i got work to do 😊   en        [😊]   \n",
       "10                                dahlah makin ovt anjeerrrr😔   en        [😔]   \n",
       "\n",
       "   emoji_seq_nbr  \n",
       "0           [11]  \n",
       "1           [11]  \n",
       "2           [11]  \n",
       "3           [47]  \n",
       "4           [47]  \n",
       "5           [11]  \n",
       "6           [11]  \n",
       "7           [11]  \n",
       "8           [11]  \n",
       "9           [11]  \n",
       "10          [47]  "
      ]
     },
     "execution_count": 5,
     "metadata": {},
     "output_type": "execute_result"
    }
   ],
   "source": [
    "dq = ts.get_tweets_by_query(query_string = \"😊 OR 😔\" ,\n",
    "                            max_emojis = 1,\n",
    "                            max_tweets = 10)\n",
    "dq"
   ]
  },
  {
   "cell_type": "markdown",
   "id": "bbe511f4",
   "metadata": {},
   "source": [
    "### Stream recent tweets using query"
   ]
  },
  {
   "cell_type": "markdown",
   "id": "5f8d0c37",
   "metadata": {},
   "source": [
    "#### Streaming to standard output"
   ]
  },
  {
   "cell_type": "code",
   "execution_count": 6,
   "id": "8ac2bfe8",
   "metadata": {},
   "outputs": [
    {
     "name": "stdout",
     "output_type": "stream",
     "text": [
      "tweet_counter|id|created_at|cleaned_text|lang|emoji_list|emoji_seq_nbr\n",
      "0|1548594282612887552|2022-07-17 09:03:43|thank you ❤️|en|❤️|140\n",
      "1|1548594283581583360|2022-07-17 09:03:43|he is offline too😂 you didn't missed much .|en|😂|7\n",
      "2|1548594280494616576|2022-07-17 09:03:42|done! thank you ❤️|en|❤️|140\n",
      "3|1548594287276949506|2022-07-17 09:03:44|i love my of community ❤️|en|❤️|140\n",
      "4|1548594286937137152|2022-07-17 09:03:44|more like our compass we're almost lost without them. ❤️|en|❤️|140\n"
     ]
    },
    {
     "name": "stderr",
     "output_type": "stream",
     "text": [
      "2022-07-17 02:03:49,703 | ERROR | streaming.py:160 | on_closed | Stream connection closed by Twitter\n"
     ]
    },
    {
     "name": "stdout",
     "output_type": "stream",
     "text": [
      "Max items = 5 reached. Disconnecting from Twitter.\n",
      "Disconnected from twitter api\n",
      "Streaming stopped by user\n"
     ]
    }
   ],
   "source": [
    "ts.stream_tweets(query_string = \"❤️\", \n",
    "                 max_tweets=5,\n",
    "                 max_emojis = 1)"
   ]
  },
  {
   "cell_type": "markdown",
   "id": "52f35578",
   "metadata": {},
   "source": [
    "#### Streaming disconnect when no matching tweets found for one minute"
   ]
  },
  {
   "cell_type": "code",
   "execution_count": 7,
   "id": "376a2602",
   "metadata": {},
   "outputs": [
    {
     "name": "stderr",
     "output_type": "stream",
     "text": [
      "2022-07-17 02:05:29,360 | ERROR | streaming.py:160 | on_closed | Stream connection closed by Twitter\n"
     ]
    },
    {
     "name": "stdout",
     "output_type": "stream",
     "text": [
      "No tweets found for one minute\n",
      "Disconnected from twitter api\n",
      "Tweets saved in stream_tweets_1.txt\n"
     ]
    }
   ],
   "source": [
    "ts.stream_tweets(query_string = \"USA 😊\", \n",
    "                 max_tweets=5,\n",
    "                 max_emojis = 2,\n",
    "                 destination = 'stream_tweets_1.txt')"
   ]
  },
  {
   "cell_type": "markdown",
   "id": "02faade8",
   "metadata": {},
   "source": [
    "#### Streaming tweets to a file"
   ]
  },
  {
   "cell_type": "code",
   "execution_count": 8,
   "id": "07631788",
   "metadata": {},
   "outputs": [
    {
     "name": "stdout",
     "output_type": "stream",
     "text": [
      "Tweet Count : 1\n",
      "Tweet Count : 2\n",
      "Tweet Count : 3\n",
      "Tweet Count : 4\n"
     ]
    },
    {
     "name": "stderr",
     "output_type": "stream",
     "text": [
      "2022-07-17 02:06:14,733 | ERROR | streaming.py:160 | on_closed | Stream connection closed by Twitter\n"
     ]
    },
    {
     "name": "stdout",
     "output_type": "stream",
     "text": [
      "Tweet Count : 5\n",
      "Max items = 5 reached. Disconnecting from Twitter.\n",
      "Disconnected from twitter api\n",
      "Tweets saved in stream_tweets_1.txt\n"
     ]
    }
   ],
   "source": [
    "ts.stream_tweets(query_string = \"Sunday ❤️\", \n",
    "                 max_tweets=5,\n",
    "                 max_emojis = 2,\n",
    "                 destination = 'stream_tweets_1.txt')"
   ]
  },
  {
   "cell_type": "code",
   "execution_count": 9,
   "id": "ee75a509",
   "metadata": {},
   "outputs": [
    {
     "name": "stdout",
     "output_type": "stream",
     "text": [
      "tweet_counter|id|created_at|cleaned_text|lang|emoji_list|emoji_seq_nbr\r\n",
      "0|1548594865038303232|2022-07-17 09:06:01|good afternoon 😻|en|😻|114\r\n",
      "1|1548594871078092800|2022-07-17 09:06:03|such beauty ❤️|en|❤️|140\r\n",
      "2|1548594879873310721|2022-07-17 09:06:05|mil loo❤️👅|en|❤️,👅|140,419\r\n",
      "3|1548594888400404480|2022-07-17 09:06:07|morning babs have a good day 😊|en|😊|11\r\n",
      "4|1548594893400018946|2022-07-17 09:06:08|morning michele nd bella 🐶 have a lovely day 😘|en|🐶,😘|16,3073\r\n"
     ]
    }
   ],
   "source": [
    "! cat stream_tweets_1.txt"
   ]
  },
  {
   "cell_type": "code",
   "execution_count": null,
   "id": "324e8d4e",
   "metadata": {},
   "outputs": [],
   "source": []
  }
 ],
 "metadata": {
  "kernelspec": {
   "display_name": "venv",
   "language": "python",
   "name": "venv"
  },
  "language_info": {
   "codemirror_mode": {
    "name": "ipython",
    "version": 3
   },
   "file_extension": ".py",
   "mimetype": "text/x-python",
   "name": "python",
   "nbconvert_exporter": "python",
   "pygments_lexer": "ipython3",
   "version": "3.9.1"
  }
 },
 "nbformat": 4,
 "nbformat_minor": 5
}
