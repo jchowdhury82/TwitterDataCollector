{
 "cells": [
  {
   "cell_type": "code",
   "execution_count": 4,
   "id": "7e457038",
   "metadata": {},
   "outputs": [],
   "source": [
    "import re, json, os\n",
    "import tweepy \n",
    "from datetime import datetime\n",
    "import pandas as pd\n",
    "pd.set_option('display.max_colwidth', None)"
   ]
  },
  {
   "cell_type": "markdown",
   "id": "9a85b5fa",
   "metadata": {},
   "source": [
    "### Getting a client "
   ]
  },
  {
   "cell_type": "code",
   "execution_count": 5,
   "id": "65437c7f",
   "metadata": {},
   "outputs": [
    {
     "name": "stdout",
     "output_type": "stream",
     "text": [
      "<tweepy.client.Client object at 0x10e9ee6d0>\n"
     ]
    }
   ],
   "source": [
    "with open('.twitter_config.json') as f:\n",
    "    config = json.load(f)\n",
    "    \n",
    "client = tweepy.Client(bearer_token = config['bearer']) \n",
    "\n",
    "print(client)"
   ]
  },
  {
   "cell_type": "markdown",
   "id": "f8d16cb4",
   "metadata": {},
   "source": [
    "### Get tweets by list of ID's"
   ]
  },
  {
   "cell_type": "code",
   "execution_count": 141,
   "id": "39de971f",
   "metadata": {},
   "outputs": [
    {
     "name": "stdout",
     "output_type": "stream",
     "text": [
      "Response(data=[<Tweet id=1545362176126468097 text=\"I'm having a very lazy day😒\">, <Tweet id=1545361147544625153 text=\"Stupid people will pay for this and claim they're changing the world...😒 https://t.co/nVWnmh8tGM\">], includes={'users': [<User id=937101228554768385 name=toyese username=tyevanz>, <User id=1356236658325286918 name=InsertWittyCryptoNameHere username=GendoCrypto>]}, errors=[{'value': '1545362059021484031', 'detail': 'Could not find tweet with ids: [1545362059021484031].', 'title': 'Not Found Error', 'resource_type': 'tweet', 'parameter': 'ids', 'resource_id': '1545362059021484031', 'type': 'https://api.twitter.com/2/problems/resource-not-found'}], meta={})\n"
     ]
    }
   ],
   "source": [
    "idlist = [1545362176126468097,1545361147544625153,1545362059021484031]\n",
    "tweets = client.get_tweets(ids = idlist,  \n",
    "                           expansions='author_id',\n",
    "                           tweet_fields = ['id,created_at,text,lang']\n",
    "                           )\n",
    "\n",
    "# the returned object is of type tweepy.client.Response and has components Response(data, includes, errors, meta)\n",
    "print(tweets)"
   ]
  },
  {
   "cell_type": "code",
   "execution_count": 142,
   "id": "99c10503",
   "metadata": {},
   "outputs": [
    {
     "data": {
      "text/plain": [
       "[<Tweet id=1545362176126468097 text=\"I'm having a very lazy day😒\">,\n",
       " <Tweet id=1545361147544625153 text=\"Stupid people will pay for this and claim they're changing the world...😒 https://t.co/nVWnmh8tGM\">]"
      ]
     },
     "execution_count": 142,
     "metadata": {},
     "output_type": "execute_result"
    }
   ],
   "source": [
    "# data object contains the tweets returned - list of tweets\n",
    "tweets.data"
   ]
  },
  {
   "cell_type": "code",
   "execution_count": 143,
   "id": "8bedb1c7",
   "metadata": {},
   "outputs": [
    {
     "data": {
      "text/plain": [
       "[{'value': '1545362059021484031',\n",
       "  'detail': 'Could not find tweet with ids: [1545362059021484031].',\n",
       "  'title': 'Not Found Error',\n",
       "  'resource_type': 'tweet',\n",
       "  'parameter': 'ids',\n",
       "  'resource_id': '1545362059021484031',\n",
       "  'type': 'https://api.twitter.com/2/problems/resource-not-found'}]"
      ]
     },
     "execution_count": 143,
     "metadata": {},
     "output_type": "execute_result"
    }
   ],
   "source": [
    "# error object contains the list of requests which errored - json \n",
    "# one of the id's in the list was a bad ID, and it shows up in the error object\n",
    "tweets.errors"
   ]
  },
  {
   "cell_type": "code",
   "execution_count": 144,
   "id": "817e3e73",
   "metadata": {},
   "outputs": [
    {
     "data": {
      "text/plain": [
       "{'users': [<User id=937101228554768385 name=toyese username=tyevanz>,\n",
       "  <User id=1356236658325286918 name=InsertWittyCryptoNameHere username=GendoCrypto>]}"
      ]
     },
     "execution_count": 144,
     "metadata": {},
     "output_type": "execute_result"
    }
   ],
   "source": [
    "# \"includes\" object returns additional info for the list of users \n",
    "# as requested in the \"expansions\" parameter of the request \"expansions = 'author_id'\"\n",
    "tweets.includes"
   ]
  },
  {
   "cell_type": "code",
   "execution_count": 146,
   "id": "1e7a4933",
   "metadata": {},
   "outputs": [
    {
     "name": "stdout",
     "output_type": "stream",
     "text": [
      "author ID = 937101228554768385               tweet ID = 1545362176126468097               created_at = 2022-07-08 11:00:28+00:00               text =  I'm having a very lazy day😒               language = en\n",
      "            \n",
      "author ID = 1356236658325286918               tweet ID = 1545361147544625153               created_at = 2022-07-08 10:56:23+00:00               text =  Stupid people will pay for this and claim they're changing the world...😒 https://t.co/nVWnmh8tGM               language = en\n",
      "            \n"
     ]
    }
   ],
   "source": [
    "# retrieving data from the tweets object\n",
    "# printing the tweet object will only show tweet_id and text - this is because the string representation (repr)\n",
    "# of the tweet object is intentionally defined to show most basic information\n",
    "# we need to explicitly access each element of the Tweet object to get the details\n",
    "\n",
    "for tweet in tweets.data:\n",
    "    \n",
    "    print(f\"\"\"author ID = {tweet.author_id} \\\n",
    "              tweet ID = {tweet.id} \\\n",
    "              created_at = {tweet.created_at} \\\n",
    "              text =  {tweet.text} \\\n",
    "              language = {tweet.lang}\n",
    "            \"\"\"\n",
    "          )"
   ]
  },
  {
   "cell_type": "code",
   "execution_count": null,
   "id": "4833fe50",
   "metadata": {},
   "outputs": [],
   "source": []
  },
  {
   "cell_type": "code",
   "execution_count": null,
   "id": "486b17ea",
   "metadata": {},
   "outputs": [],
   "source": []
  },
  {
   "cell_type": "markdown",
   "id": "106b2d25",
   "metadata": {},
   "source": [
    "### Get tweets by search keys (queries) using paginator"
   ]
  },
  {
   "cell_type": "code",
   "execution_count": 171,
   "id": "6909a4a3",
   "metadata": {},
   "outputs": [],
   "source": [
    "# With this feature, results from any of the search functions from the twitter client object \n",
    "# can be paginated and processed \n",
    "# Paginator needs the following:\n",
    "#        1. The search API (the function object itself is passed)\n",
    "#        2. The query to be passed to the function\n",
    "#        3. Fields required in the response ( tweet_fields or user_fields or place_fields etc.)\n",
    "#        4. Number of items required ( tweet_fields or user_fields or place_fields etc.)\n",
    "\n",
    "# The Paginator returns a generator of tweet objects which can be iterated over to check it's content\n",
    "\n",
    "# For example, let's take 'search_recent_tweets' : returns Tweets from the last 7 days that match query.\n",
    "\n",
    "query = '(happiness OR happy) -is:retweet -is:reply lang:en -birthday -Birthday -weekend -Weekend'\n",
    "max_tweets = 4\n",
    "tweets = tweepy.Paginator(client.search_recent_tweets, \n",
    "                          query=query,\n",
    "                          start_time = '2022-07-03T00:00:00Z',\n",
    "                          end_time = '2022-07-05T23:59:59Z',\n",
    "                          tweet_fields=['id,created_at,text,lang'], \n",
    "                          max_results=100).flatten(limit=max_tweets)"
   ]
  },
  {
   "cell_type": "code",
   "execution_count": 172,
   "id": "24689bbd",
   "metadata": {},
   "outputs": [
    {
     "data": {
      "text/plain": [
       "generator"
      ]
     },
     "execution_count": 172,
     "metadata": {},
     "output_type": "execute_result"
    }
   ],
   "source": [
    "# return type is a generator of Tweet objects\n",
    "type(tweets) "
   ]
  },
  {
   "cell_type": "code",
   "execution_count": 173,
   "id": "9e94a2ee",
   "metadata": {},
   "outputs": [
    {
     "name": "stdout",
     "output_type": "stream",
     "text": [
      "tweet ID = 1544471177837813760               created_at = 2022-07-05 23:59:58+00:00               text =  How about ur nineteenth years? @phuwintang \n",
      "Hope you’re happy with everything you do and everything you go through in life. Please take care krub. 🤍\n",
      "#phuwintang #WhatANiceDayPhuwin https://t.co/JcO3PCIABH               language = en \n",
      "            \n",
      "tweet ID = 1544471177124536321               created_at = 2022-07-05 23:59:58+00:00               text =  I really wanna be happy for you but I can’t 🫠😭😭😭 https://t.co/pmNfMbAtot               language = en \n",
      "            \n",
      "tweet ID = 1544471174540734464               created_at = 2022-07-05 23:59:57+00:00               text =  I’m so happy. You’ve come so far. I always knew you would make it here in the end.               language = en \n",
      "            \n",
      "tweet ID = 1544471174146453504               created_at = 2022-07-05 23:59:57+00:00               text =  Name one hero who was happy.               language = en \n",
      "            \n"
     ]
    }
   ],
   "source": [
    "for tweet in tweets:\n",
    "    print(f'''tweet ID = {tweet.id} \\\n",
    "              created_at = {tweet.created_at} \\\n",
    "              text =  {tweet.text} \\\n",
    "              language = {tweet.lang} \n",
    "            ''' \n",
    "          )"
   ]
  },
  {
   "cell_type": "code",
   "execution_count": null,
   "id": "d9ca57b1",
   "metadata": {},
   "outputs": [],
   "source": []
  },
  {
   "cell_type": "code",
   "execution_count": null,
   "id": "da97a35a",
   "metadata": {},
   "outputs": [],
   "source": []
  },
  {
   "cell_type": "markdown",
   "id": "bfa5e9b1",
   "metadata": {},
   "source": [
    "### Create a StreamListener for tweets"
   ]
  },
  {
   "cell_type": "code",
   "execution_count": 236,
   "id": "376d2552",
   "metadata": {},
   "outputs": [],
   "source": [
    "# Create a custom stream client based on the base tweepy StreamingClient\n",
    "\n",
    "class TwitterStreamClient(tweepy.StreamingClient):\n",
    "    \n",
    "    # Initialize the client using the base client class' constructor by using the bearer token\n",
    "    def __init__(self,maxitems):\n",
    "        try: \n",
    "            with open('.twitter_config.json') as f:\n",
    "                config = json.load(f)\n",
    "\n",
    "            tweepy.StreamingClient.__init__(self,bearer_token = config['bearer'])\n",
    "            self.tweet_counter = 0\n",
    "            self.maxitems = maxitems\n",
    "\n",
    "        except Exception as e:\n",
    "            print('Error in intializing the stream')       \n",
    "    \n",
    "    # on_connect is called whenever the client is connected. \n",
    "    def on_connect(self):\n",
    "        print(\"Connected to twitter api\")\n",
    "    \n",
    "    # on_disconnect is called whenever the client is disconnected. \n",
    "    def on_disconnect(self):\n",
    "        print(\"Disconnected from twitter api\")\n",
    "    \n",
    "    # on_response is called whenever a response is received - we catch and print the tweet object here\n",
    "    def on_response(self, response):\n",
    "\n",
    "        self.tweet_counter  += 1\n",
    "        print(f\"TWEET COUNTER = {self.tweet_counter}\")\n",
    "\n",
    "        tweet = response.data\n",
    "\n",
    "        print(f\"ID = {tweet.id} | created_at = {tweet.created_at} | text =  {tweet.text} | lang = {tweet.lang} \")\n",
    "        \n",
    "        # the stream disconnects when the maximum number of items is reached\n",
    "        if self.tweet_counter == self.maxitems:\n",
    "            print(f\"Max items reached\")\n",
    "            self.disconnect()\n",
    "\n",
    "    # on_request_error is called whenever a response is received - we catch and print the tweet object here\n",
    "    def on_request_error(self,status_code):\n",
    "        print(f\"Request error: {status_code}\")\n",
    "        self.disconnect()"
   ]
  },
  {
   "cell_type": "code",
   "execution_count": 245,
   "id": "1108d57a",
   "metadata": {},
   "outputs": [],
   "source": [
    "# Initialize a TwitterStreamClient for maximum of 5 items\n",
    "stream = TwitterStreamClient(maxitems = 5)"
   ]
  },
  {
   "cell_type": "code",
   "execution_count": 247,
   "id": "014c1beb",
   "metadata": {},
   "outputs": [
    {
     "name": "stdout",
     "output_type": "stream",
     "text": [
      "No existing rules found\n"
     ]
    }
   ],
   "source": [
    "# delete any StreamRule that is associated to this stream\n",
    "# rules stay cached to the stream\n",
    "# duplicate rules are not added \n",
    "existing_rules = stream.get_rules().data \n",
    "if existing_rules is not None:\n",
    "    print(f\"Deleting rules: {existing_rules}\")\n",
    "    stream.delete_rules(ids = [rule.id for rule in existing_rules])\n",
    "else:\n",
    "    print(\"No existing rules found\")"
   ]
  },
  {
   "cell_type": "code",
   "execution_count": 248,
   "id": "de7aab26",
   "metadata": {},
   "outputs": [
    {
     "data": {
      "text/plain": [
       "Response(data=[StreamRule(value='(elon musk) -is:retweet -is:reply lang:en', tag=None, id='1545728767384989697')], includes={}, errors=[], meta={'sent': '2022-07-09T11:17:11.081Z', 'summary': {'created': 1, 'not_created': 0, 'valid': 1, 'invalid': 0}})"
      ]
     },
     "execution_count": 248,
     "metadata": {},
     "output_type": "execute_result"
    }
   ],
   "source": [
    "# Create a StreamRule to the stream as a filter specification\n",
    "query = '(elon musk) -is:retweet -is:reply lang:en'\n",
    "rule = tweepy.StreamRule(query)\n",
    "\n",
    "# Add the StreamRule to the stream to make it a filtered stream\n",
    "stream.add_rules(rule)"
   ]
  },
  {
   "cell_type": "code",
   "execution_count": 249,
   "id": "a7ff22dc",
   "metadata": {},
   "outputs": [
    {
     "data": {
      "text/plain": [
       "[StreamRule(value='(elon musk) -is:retweet -is:reply lang:en', tag=None, id='1545728767384989697')]"
      ]
     },
     "execution_count": 249,
     "metadata": {},
     "output_type": "execute_result"
    }
   ],
   "source": [
    "# check if the rule has been added\n",
    "stream.get_rules().data "
   ]
  },
  {
   "cell_type": "code",
   "execution_count": 250,
   "id": "04b8b09b",
   "metadata": {},
   "outputs": [
    {
     "name": "stdout",
     "output_type": "stream",
     "text": [
      "Connected to twitter api\n",
      "TWEET COUNTER = 1\n",
      "ID = 1545728791967834112 | created_at = 2022-07-09 11:17:16+00:00 | text =  Elon Musk Cancels $44 Billion Twitter Deal https://t.co/S1KfNEUgfz #survivorGR #πολιτικη #Πολεμος_στην_Ουκρανια #greece #πανδημια | lang = en \n",
      "TWEET COUNTER = 2\n",
      "ID = 1545728792181837824 | created_at = 2022-07-09 11:17:16+00:00 | text =  Are you retarded?! He paid more in taxes the last three years (separately) than any person in history. He literally set the record for most taxes paid by a single person three years in a row. You are SO ignorant. You're dumber than a box of rocks. I'd literally cry if I were you https://t.co/PrRtgOhqHV | lang = en \n",
      "TWEET COUNTER = 3\n",
      "ID = 1545728791103905792 | created_at = 2022-07-09 11:17:16+00:00 | text =  Elon Musk withdraws $44bn bid to buy Twitter after weeks of high drama | Elon Musk | The Guardian https://t.co/nT6dmtzPzj | lang = en \n",
      "TWEET COUNTER = 4\n",
      "ID = 1545728805880205313 | created_at = 2022-07-09 11:17:20+00:00 | text =  Better, now @elonmusk should bid to buy Sri Lanka by shelling out few more billion dollars and name the island as Cyelon Musk... https://t.co/EhlQDPIYMX | lang = en \n"
     ]
    },
    {
     "name": "stderr",
     "output_type": "stream",
     "text": [
      "Stream connection closed by Twitter\n"
     ]
    },
    {
     "name": "stdout",
     "output_type": "stream",
     "text": [
      "TWEET COUNTER = 5\n",
      "ID = 1545728816319954945 | created_at = 2022-07-09 11:17:22+00:00 | text =  Elon Musk Cancels $44 Billion Twitter Deal https://t.co/F9l5yGaqRK #Πολεμος_στην_Ουκρανια #πολιτικη #οικονομια #επικαιροτητα #survivorGR #news #greece #πανδημια | lang = en \n",
      "Max items reached\n",
      "Disconnected from twitter api\n"
     ]
    }
   ],
   "source": [
    "# Start the streaming - in this example we would use the filter API for the stream\n",
    "stream.filter(tweet_fields = ['id,created_at,text,lang'])"
   ]
  },
  {
   "cell_type": "code",
   "execution_count": 244,
   "id": "b05c1ae7",
   "metadata": {},
   "outputs": [],
   "source": [
    "# explicitly disconnect the stream\n",
    "stream.disconnect()"
   ]
  },
  {
   "cell_type": "code",
   "execution_count": null,
   "id": "1139e2dd",
   "metadata": {},
   "outputs": [],
   "source": []
  }
 ],
 "metadata": {
  "kernelspec": {
   "display_name": "venv",
   "language": "python",
   "name": "venv"
  },
  "language_info": {
   "codemirror_mode": {
    "name": "ipython",
    "version": 3
   },
   "file_extension": ".py",
   "mimetype": "text/x-python",
   "name": "python",
   "nbconvert_exporter": "python",
   "pygments_lexer": "ipython3",
   "version": "3.9.1"
  }
 },
 "nbformat": 4,
 "nbformat_minor": 5
}
